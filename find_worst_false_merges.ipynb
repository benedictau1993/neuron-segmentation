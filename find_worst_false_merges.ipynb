{
 "cells": [
  {
   "cell_type": "markdown",
   "metadata": {},
   "source": [
    "This notebook finds that neuron-ids in ground-truth that have the worst false merges when we run inference. The following uses the inference of modelA on subvolume [0,0,0] - [125, 128, 128] of cremiA."
   ]
  },
  {
   "cell_type": "code",
   "execution_count": 1,
   "metadata": {},
   "outputs": [],
   "source": [
    "from ffn.inference import storage\n",
    "import h5py\n",
    "import numpy as np\n",
    "\n",
    "from cremi_python.cremi.evaluation.rand import adapted_rand\n",
    "from cremi_python.cremi.evaluation.voi import voi, sorted_vi_components"
   ]
  },
  {
   "cell_type": "markdown",
   "metadata": {},
   "source": [
    "# Load segmentation and ground-truth"
   ]
  },
  {
   "cell_type": "code",
   "execution_count": 4,
   "metadata": {},
   "outputs": [
    {
     "name": "stdout",
     "output_type": "stream",
     "text": [
      "(125, 128, 128)\n"
     ]
    }
   ],
   "source": [
    "#load segmentation, https://drive.google.com/drive/folders/1SDjXXM6xW6sjzEJeUrDduL_PTQTI1Skz?usp=sharing\n",
    "seg, prob = storage.load_segmentation('CREMIA/inferenceA_mt98_ia95', (0, 0, 0))\n",
    "print(seg.shape)\n",
    "\n",
    "# load ground-truth, https://drive.google.com/file/d/1soEqM2DPVT6hYUPLybvNGIjtTYJbdrGl/view?usp=sharing\n",
    "filename = '/Users/Jenny/Desktop/MSCA/Capstone/data/labeledA_uint8.hdf'\n",
    "with h5py.File(filename, 'r') as f:\n",
    "    truth = f['volumes/labels/neuron_ids'][...]\n",
    "truth = truth[:125, :128, :128]"
   ]
  },
  {
   "cell_type": "markdown",
   "metadata": {},
   "source": [
    "# Calculate rand and voi score"
   ]
  },
  {
   "cell_type": "code",
   "execution_count": 5,
   "metadata": {},
   "outputs": [
    {
     "data": {
      "text/plain": [
       "(0.2504528800746295, 0.9835280998897968, 0.6054991020899303)"
      ]
     },
     "execution_count": 5,
     "metadata": {},
     "output_type": "execute_result"
    }
   ],
   "source": [
    "adapted_rand(seg, truth, True)"
   ]
  },
  {
   "cell_type": "code",
   "execution_count": 6,
   "metadata": {},
   "outputs": [
    {
     "data": {
      "text/plain": [
       "(1.5582847410016272, 0.6238707278010233)"
      ]
     },
     "execution_count": 6,
     "metadata": {},
     "output_type": "execute_result"
    }
   ],
   "source": [
    "voi(seg, truth)"
   ]
  },
  {
   "cell_type": "markdown",
   "metadata": {},
   "source": [
    "# Find worst false merges"
   ]
  },
  {
   "cell_type": "code",
   "execution_count": 7,
   "metadata": {},
   "outputs": [],
   "source": [
    "false_merges, entropy, _, _ = sorted_vi_components(seg, truth, compress=False)\n"
   ]
  },
  {
   "cell_type": "code",
   "execution_count": 10,
   "metadata": {},
   "outputs": [],
   "source": [
    "ids = false_merges[entropy>0]"
   ]
  },
  {
   "cell_type": "code",
   "execution_count": 11,
   "metadata": {},
   "outputs": [
    {
     "data": {
      "text/plain": [
       "array([  5556,   2064,   7550,   2193,   3538,   6252,   3040,   9080,\n",
       "         9284,  53070, 188748, 175398,   3877,   9988, 123707,  70515,\n",
       "       123694,  37473,  21635, 180064, 180429,  31621, 114415,   7113,\n",
       "       101706,  35891, 181339, 177085, 183060, 180885,  53346, 135269,\n",
       "        68201, 132030,   5918,  39852, 180903, 179183,  55330, 181345,\n",
       "       135267, 189390, 182193, 183494, 187328, 187825,  71424,  87656,\n",
       "       178398, 175340, 166017, 185566, 188674, 189385, 165252, 179174,\n",
       "       131650,    885, 166452,  47677, 135261, 185108, 150759, 133730,\n",
       "       180443,  78629, 169519, 189389, 144909, 178741, 131647, 177890,\n",
       "       169984,  62462, 186379, 146056, 189386, 183879, 131114, 115690,\n",
       "       135262, 189301, 145660, 162742, 144541, 131643, 131667, 174982,\n",
       "       184703, 174558, 131651, 144922, 189381, 180084, 115586, 189387,\n",
       "       179607, 188675,  10561, 167947, 125518, 162781, 131639, 139395,\n",
       "       167248, 135271, 176666, 131670, 133733, 172545, 186010, 172926,\n",
       "       174987, 137284, 131669, 135272, 163203, 176202, 133731, 186761,\n",
       "       102293, 182639, 133828, 163647, 142965, 184330, 150033, 172933,\n",
       "       153577, 138103, 131668, 170361, 125522, 138134, 185992, 138929,\n",
       "       152760, 169150, 131649, 176214,  54884, 181789, 154794, 131117,\n",
       "        37988, 144096, 146439, 138900, 187314, 185556, 143732, 176672,\n",
       "       187321, 186016, 155565, 184713, 155193, 159275, 142206, 156317,\n",
       "       137729, 177069, 182205, 172084,  52972, 149635, 156795, 189384,\n",
       "       163657, 135809,  44519, 169532, 177525, 187257, 180892, 183532,\n",
       "       135273, 150393, 170362, 146044, 179209, 174551, 162306, 148032,\n",
       "       137692, 160126, 172529, 143344, 171668, 170367, 131662, 146069,\n",
       "       155935, 140659, 158836, 144538, 150023, 163200, 135811, 131118,\n",
       "       166854, 181344, 158440, 176200, 155577, 138931, 186004, 173310,\n",
       "       169517, 131646, 181327, 158833, 169160, 131664, 169991, 171241,\n",
       "       170803, 153159, 176195, 163219, 125543, 161836, 178750, 151950,\n",
       "       138501, 172067, 159680, 156316, 159695, 135266, 183054, 140184,\n",
       "       155950, 179194, 146048, 180080, 146051, 163661, 158822, 167582,\n",
       "       179628, 136029, 145270, 169982, 166425, 180891, 143722, 138122,\n",
       "       159255, 140635, 154387, 133728, 183053, 155176, 186410, 161839,\n",
       "       138115, 176669, 182663, 138530, 163659, 168755])"
      ]
     },
     "execution_count": 11,
     "metadata": {},
     "output_type": "execute_result"
    }
   ],
   "source": [
    "# These are the gt (ground-truth) ids that have the worst false merges. \n",
    "ids"
   ]
  },
  {
   "cell_type": "markdown",
   "metadata": {},
   "source": [
    "# Next step: visualize"
   ]
  },
  {
   "cell_type": "code",
   "execution_count": null,
   "metadata": {},
   "outputs": [],
   "source": []
  }
 ],
 "metadata": {
  "kernelspec": {
   "display_name": "Python (HPN)",
   "language": "python",
   "name": "hpn-env"
  },
  "language_info": {
   "codemirror_mode": {
    "name": "ipython",
    "version": 3
   },
   "file_extension": ".py",
   "mimetype": "text/x-python",
   "name": "python",
   "nbconvert_exporter": "python",
   "pygments_lexer": "ipython3",
   "version": "3.6.10"
  }
 },
 "nbformat": 4,
 "nbformat_minor": 4
}
