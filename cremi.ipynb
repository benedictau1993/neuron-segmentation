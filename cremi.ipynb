{
 "cells": [
  {
   "cell_type": "markdown",
   "metadata": {},
   "source": [
    "# CREMI Dataset\n",
    "#### Team: Benedict Au, Amanda Zang, Jenny Zhen\n",
    "#### Apr 1, 2020"
   ]
  },
  {
   "cell_type": "code",
   "execution_count": 1,
   "metadata": {},
   "outputs": [],
   "source": [
    "import h5py\n",
    "import os\n",
    "import subprocess\n",
    "import numpy as np\n",
    "import pandas as pd\n",
    "import matplotlib.pyplot as plt\n",
    "import seaborn as sns"
   ]
  },
  {
   "cell_type": "markdown",
   "metadata": {},
   "source": [
    "## 1. CREMI Data Format Specification\n",
    "\n",
    "Volumes and annotations are stored in a single HDF5 file with the following datasets:\n",
    "\n",
    "#### Volumes\n",
    "The volumes are stored in row-major format, i.e., with dimensions (depth,height,width). All volumes have an attribute resolution that specifies the size of voxels (depth,height,width) in nm. In the padded versions of the datasets, the raw volume provides much more context. In this case, the label volumes have an additional offset attribute (z,y,x) in nm that marks the beginning of the label volumes in the raw volume.\n",
    "\n",
    "- `volumes/raw`: gray scale pixels\n",
    "- `volumes/labels/clefts`: synaptic cleft segmentation\n",
    "- `volumes/labels/neuron_ids`: neuron segmentation\n",
    "\n",
    "#### Annotations\n",
    "Annotations for pre- and post-synaptic partner pairs are provided as well. All locations are given as (z,y,x) in nm. In the padded versions of the datasets, the raw volume provides much more context. In this case, the annotation group has an additional offset attribute (z,y,x) in nm, which is the same as for the label volumes. All locations are relative to this offset, such that they are the same as in the unpadded version.\n",
    "\n",
    "- `annotations/ids`: list of ids\n",
    "- `annotations/locations`: list of annotation locations as (z,y,x) in nm, same order as ids\n",
    "- `annotations/type`: list of annotation types (presynaptic_site or postsynaptic_site), same order as ids\n",
    "- `presynaptic_site/partners`: list of id tuples (pre, post) linking pre- and postsynaptic partners\n",
    "- `comments/target_ids`: list of ids for annotations that have a comment\n",
    "- `comments/comments`: list of comments, same order as target_ids"
   ]
  },
  {
   "cell_type": "markdown",
   "metadata": {},
   "source": [
    "### Viewing CREMI dataset hdf5 file hierarchy\n",
    "\n",
    "In h5py, groups work like dictionaries, and datasets work like NumPy arrays. \n",
    "\n",
    "Here is the file hierarchy of Sample A:"
   ]
  },
  {
   "cell_type": "code",
   "execution_count": 2,
   "metadata": {},
   "outputs": [
    {
     "name": "stdout",
     "output_type": "stream",
     "text": [
      "HDF5 \"./data_cremi/sample_A_20160501.hdf\" {\n",
      "FILE_CONTENTS {\n",
      " group      /\n",
      " group      /__DATA_TYPES__\n",
      " datatype   /__DATA_TYPES__/Enum_Boolean\n",
      " datatype   /__DATA_TYPES__/String_VariableLength\n",
      " group      /annotations\n",
      " group      /annotations/comments\n",
      " dataset    /annotations/comments/comments\n",
      " dataset    /annotations/comments/target_ids\n",
      " dataset    /annotations/ids\n",
      " dataset    /annotations/locations\n",
      " group      /annotations/presynaptic_site\n",
      " dataset    /annotations/presynaptic_site/partners\n",
      " dataset    /annotations/types\n",
      " group      /volumes\n",
      " group      /volumes/labels\n",
      " dataset    /volumes/labels/clefts\n",
      " dataset    /volumes/labels/neuron_ids\n",
      " dataset    /volumes/raw\n",
      " }\n",
      "}\n",
      "\n"
     ]
    }
   ],
   "source": [
    "filename = \"./data_cremi/sample_A_20160501.hdf\"\n",
    "f = h5py.File(filename, 'r')\n",
    "\n",
    "os.system(\"h5dump -n ./data_cremi/sample_A_20160501.hdf\")\n",
    "result = subprocess.run([\"h5dump\", \"-n\", filename], stdout=subprocess.PIPE)\n",
    "print(result.stdout.decode('utf-8'))"
   ]
  },
  {
   "cell_type": "markdown",
   "metadata": {},
   "source": [
    "In greater detail:"
   ]
  },
  {
   "cell_type": "code",
   "execution_count": 3,
   "metadata": {},
   "outputs": [
    {
     "name": "stdout",
     "output_type": "stream",
     "text": [
      "HDF5 \"./data_cremi/sample_A_20160501.hdf\" {\n",
      "GROUP \"/\" {\n",
      "   GROUP \"__DATA_TYPES__\" {\n",
      "      DATATYPE \"Enum_Boolean\" H5T_ENUM {\n",
      "         H5T_STD_I8LE;\n",
      "         \"FALSE\"            0;\n",
      "         \"TRUE\"             1;\n",
      "      };\n",
      "      DATATYPE \"String_VariableLength\" H5T_STRING {\n",
      "         STRSIZE H5T_VARIABLE;\n",
      "         STRPAD H5T_STR_NULLTERM;\n",
      "         CSET H5T_CSET_ASCII;\n",
      "         CTYPE H5T_C_S1;\n",
      "      };\n",
      "   }\n",
      "   GROUP \"annotations\" {\n",
      "      GROUP \"comments\" {\n",
      "         DATASET \"comments\" {\n",
      "            DATATYPE  H5T_STRING {\n",
      "               STRSIZE H5T_VARIABLE;\n",
      "               STRPAD H5T_STR_NULLTERM;\n",
      "               CSET H5T_CSET_UTF8;\n",
      "               CTYPE H5T_C_S1;\n",
      "            }\n",
      "            DATASPACE  SIMPLE { ( 17 ) / ( 17 ) }\n",
      "         }\n",
      "         DATASET \"target_ids\" {\n",
      "            DATATYPE  H5T_STD_U64LE\n",
      "            DATASPACE  SIMPLE { ( 17 ) / ( 17 ) }\n",
      "         }\n",
      "      }\n",
      "      DATASET \"ids\" {\n",
      "         DATATYPE  H5T_STD_U64LE\n",
      "         DATASPACE  SIMPLE { ( 432 ) / ( 432 ) }\n",
      "      }\n",
      "      DATASET \"locations\" {\n",
      "         DATATYPE  H5T_IEEE_F32LE\n",
      "         DATASPACE  SIMPLE { ( 432, 3 ) / ( 432, 3 ) }\n",
      "      }\n",
      "      GROUP \"presynaptic_site\" {\n",
      "         DATASET \"partners\" {\n",
      "            DATATYPE  H5T_STD_U64LE\n",
      "            DATASPACE  SIMPLE { ( 216, 2 ) / ( 216, 2 ) }\n",
      "         }\n",
      "      }\n",
      "      DATASET \"types\" {\n",
      "         DATATYPE  H5T_STRING {\n",
      "            STRSIZE H5T_VARIABLE;\n",
      "            STRPAD H5T_STR_NULLTERM;\n",
      "            CSET H5T_CSET_UTF8;\n",
      "            CTYPE H5T_C_S1;\n",
      "         }\n",
      "         DATASPACE  SIMPLE { ( 432 ) / ( 432 ) }\n",
      "      }\n",
      "   }\n",
      "   GROUP \"volumes\" {\n",
      "      GROUP \"labels\" {\n",
      "         DATASET \"clefts\" {\n",
      "            DATATYPE  H5T_STD_U64LE\n",
      "            DATASPACE  SIMPLE { ( 125, 1250, 1250 ) / ( 125, 1250, 1250 ) }\n",
      "         }\n",
      "         DATASET \"neuron_ids\" {\n",
      "            DATATYPE  H5T_STD_U64LE\n",
      "            DATASPACE  SIMPLE { ( 125, 1250, 1250 ) / ( 125, 1250, 1250 ) }\n",
      "         }\n",
      "      }\n",
      "      DATASET \"raw\" {\n",
      "         DATATYPE  H5T_STD_U8LE\n",
      "         DATASPACE  SIMPLE { ( 125, 1250, 1250 ) / ( 125, 1250, 1250 ) }\n",
      "      }\n",
      "   }\n",
      "}\n",
      "}\n",
      "\n"
     ]
    }
   ],
   "source": [
    "result = subprocess.run([\"h5dump\", \"-H\", \"-A\", \"0\", filename], stdout=subprocess.PIPE)\n",
    "print(result.stdout.decode('utf-8'))"
   ]
  },
  {
   "cell_type": "markdown",
   "metadata": {},
   "source": [
    "## 2. Volumes EDA: raw, clefts, neuron_ids datasets\n"
   ]
  },
  {
   "cell_type": "markdown",
   "metadata": {},
   "source": [
    "### 2.1 Plot one slice\n",
    "\n",
    "Visualise one slice of raw data, clefts labels and neuron_ids labels:"
   ]
  },
  {
   "cell_type": "code",
   "execution_count": 4,
   "metadata": {},
   "outputs": [],
   "source": [
    "raw = f[\"/volumes/raw\"]\n",
    "clefts = f[\"/volumes/labels/clefts\"]\n",
    "neuron_ids = f[\"/volumes/labels/neuron_ids\"]\n",
    "\n",
    "img = (raw, clefts, neuron_ids)\n"
   ]
  },
  {
   "cell_type": "code",
   "execution_count": null,
   "metadata": {},
   "outputs": [],
   "source": [
    "layer = 0\n",
    "\n",
    "raw_layer = raw[layer]\n",
    "clefts_layer = clefts[layer]\n",
    "neuron_ids_layer = neuron_ids[layer]\n",
    "\n",
    "print(\"Dataset dimensions: {}\".format(raw.shape), \"\\n\")\n",
    "print(\"Layer {}: \\n\".format(layer))\n",
    "print(raw_layer, \"\\n\")\n",
    "\n",
    "fig, axarr = plt.subplots(1,3,figsize=(15,15))\n",
    "\n",
    "axarr[0].imshow(raw_layer)\n",
    "axarr[0].title.set_text('Raw data')\n",
    "axarr[1].imshow(clefts_layer)\n",
    "axarr[1].title.set_text('Cleft labels')\n",
    "axarr[2].imshow(neuron_ids_layer)\n",
    "axarr[2].title.set_text('Neuron_id labels')"
   ]
  },
  {
   "cell_type": "markdown",
   "metadata": {},
   "source": [
    "### 2.2 Plot all slices\n"
   ]
  },
  {
   "cell_type": "code",
   "execution_count": null,
   "metadata": {},
   "outputs": [],
   "source": [
    "import ipywidgets as ipyw\n",
    "from mpl_toolkits.axes_grid1 import make_axes_locatable\n",
    "\n",
    "class CREMIImageViewer:\n",
    "    \"\"\" Viewing CREMI volumetric image slices in Jupyter notebooks. \n",
    "    \n",
    "    User can interactively select the slice plane and view the images \n",
    "    at each slice.\n",
    "    \n",
    "    Keyword arguments:\n",
    "    img     -- 3-element tuple containing (raw, clefts, neuron_ids) data\n",
    "    figsize -- to set the size of the figure (default (15,15))\n",
    "    \"\"\"\n",
    "    \n",
    "    def __init__(self, img, figsize=(18,18)):\n",
    "        self.img = img\n",
    "        self.figsize = figsize\n",
    "        self.volume1 = img[0]\n",
    "        self.volume2 = img[1]\n",
    "        self.volume3 = img[2]\n",
    "        self.v1 = [np.min(self.volume1), np.max(self.volume1)]\n",
    "        self.v2 = [np.min(self.volume2), np.max(self.volume2)]\n",
    "        self.v3 = [np.min(self.volume3), np.max(self.volume3)]\n",
    "        \n",
    "        \"\"\"Call to select slice plane\"\"\"\n",
    "        ipyw.interact(self.view_selection, view=ipyw.RadioButtons(\n",
    "            options=['x-y','y-z', 'z-x'], value='y-z', \n",
    "            description='Slice plane selection:', disabled=False,\n",
    "            style={'description_width': 'initial'}))\n",
    "    \n",
    "    def view_selection(self, view):\n",
    "        \"\"\"Transpose the volume to orient according to the slice plane selection\"\"\"\n",
    "        orient = {\"x-y\": [0,1,2], \"y-z\":[1,2,0], \"z-x\":[2,0,1]}\n",
    "        self.vol1 = np.transpose(self.volume1, orient[view])\n",
    "        self.vol2 = np.transpose(self.volume2, orient[view])\n",
    "        self.vol3 = np.transpose(self.volume3, orient[view])\n",
    "        maxZ = self.vol1.shape[2] - 1\n",
    "        \n",
    "        ipyw.interact(self.plot_slice, \n",
    "            z=ipyw.IntSlider(min=0, max=maxZ, step=1, continuous_update=False, \n",
    "            description='Image Slice:'))\n",
    "        \n",
    "    def plot_slice(self, z):\n",
    "        \"\"\"Plot slice for the given plane and slice\"\"\"\n",
    "        self.fig, (self.ax1, self.ax2, self.ax3) = plt.subplots(1,3,figsize=self.figsize)\n",
    "        \n",
    "        self.divider1 = make_axes_locatable(self.ax1)\n",
    "        self.cax1 = self.divider1.append_axes('right', size='5%', pad=0.05)\n",
    "        self.im1 = self.ax1.imshow(self.vol1[:,:,z], vmin=self.v1[0], vmax=self.v1[1], cmap=\"Greys\")\n",
    "        self.fig.colorbar(self.im1, cax=self.cax1, orientation='vertical')\n",
    "        self.ax1.title.set_text('Raw data')\n",
    "        \n",
    "        self.divider2 = make_axes_locatable(self.ax2)\n",
    "        self.cax2 = self.divider2.append_axes('right', size='5%', pad=0.05)\n",
    "        self.im2 = self.ax2.imshow(self.vol2[:,:,z], vmin=self.v2[0], vmax=self.v2[1], cmap=\"binary\")\n",
    "        self.fig.colorbar(self.im2, cax=self.cax2, orientation='vertical')\n",
    "        self.ax2.title.set_text('Cleft labels')\n",
    "\n",
    "        self.divider3 = make_axes_locatable(self.ax3)\n",
    "        self.cax3 = self.divider3.append_axes('right', size='5%', pad=0.05)\n",
    "        self.im3 = self.ax3.imshow(self.vol3[:,:,z], vmin=self.v3[0], vmax=self.v3[1])\n",
    "        self.fig.colorbar(self.im3, cax=self.cax3, orientation='vertical')\n",
    "        self.ax3.title.set_text('Neuron_id labels');\n",
    "        \n",
    "        plt.show();\n",
    " "
   ]
  },
  {
   "cell_type": "code",
   "execution_count": null,
   "metadata": {},
   "outputs": [],
   "source": [
    "CREMIImageViewer(img)"
   ]
  },
  {
   "cell_type": "markdown",
   "metadata": {},
   "source": [
    "### 2.3 Plot single neuron in all slices \n"
   ]
  },
  {
   "cell_type": "code",
   "execution_count": 5,
   "metadata": {},
   "outputs": [],
   "source": [
    "import ipywidgets as ipyw\n",
    "from mpl_toolkits.axes_grid1 import make_axes_locatable\n",
    "import matplotlib.pylab as pl\n",
    "from matplotlib.colors import ListedColormap\n",
    "\n",
    "class CREMINeuronViewer:\n",
    "    \"\"\" Viewing CREMI volumetric image slices in Jupyter notebooks. \n",
    "    \n",
    "    User can interactively select both the neuron_id to be mapped and \n",
    "    the slice plane, then view the images at each slice. The neurons \n",
    "    and their ids are sorted according to size in decreasing order.\n",
    "    \n",
    "    Keyword arguments:\n",
    "    img     -- 3-element tuple containing (raw, clefts, neuron_ids) data\n",
    "    figsize -- to set the size of the figure (default (15,15))\n",
    "    \"\"\"\n",
    "    \n",
    "    def __init__(self, img, figsize=(25,25)):\n",
    "        self.img = img\n",
    "        self.figsize = figsize\n",
    "        self.volume1 = img[0]\n",
    "        self.volume2 = img[1]\n",
    "        self.volume3 = img[2]\n",
    "        \n",
    "        self.volume3_flat = self.volume3[:].flatten()\n",
    "        self.unique_ids, self.counts = np.unique(self.volume3_flat, return_counts=True) \n",
    "        self.unique_id_count = np.column_stack([self.unique_ids, self.counts])\n",
    "        self.unique_id_count = self.unique_id_count[self.unique_id_count[:,1].argsort()[::-1]].astype(int)\n",
    "        self.sorted_id = self.unique_id_count[:,0].tolist()\n",
    "        self.sorted_count = self.unique_id_count[:,1].tolist()\n",
    "\n",
    "        \"\"\"Create custom color map with increasing alpha for synapse overlay\"\"\"\n",
    "        cmap1 = pl.cm.autumn\n",
    "        self.my_cmap1 = cmap1(np.arange(cmap1.N))\n",
    "        self.my_cmap1[:,-1] = np.linspace(1, 0, cmap1.N)\n",
    "        self.my_cmap1 = ListedColormap(self.my_cmap1)    \n",
    "        \n",
    "        \"\"\"Create custom color map with increasing alpha for neuron overlay\"\"\"\n",
    "        cmap2 = pl.cm.winter_r\n",
    "        self.my_cmap2 = cmap2(np.arange(cmap2.N))\n",
    "        self.my_cmap2[:,-1] = np.linspace(0, 1, cmap2.N)\n",
    "        self.my_cmap2 = ListedColormap(self.my_cmap2)\n",
    "    \n",
    "        \"\"\"Call to select slice plane\"\"\"\n",
    "        ipyw.interact(self.view_selection, view=ipyw.RadioButtons(\n",
    "            options=['x-y','y-z', 'z-x'], \n",
    "            value='y-z', \n",
    "            description='Slice plane selection:', \n",
    "            disabled=False,\n",
    "            style={'description_width': 'initial'}))\n",
    "    \n",
    "    def view_selection(self, view):\n",
    "        \"\"\"Transpose the volume to orient according to the slice plane selection\"\"\"\n",
    "        orient = {\"x-y\": [0,1,2], \"y-z\":[1,2,0], \"z-x\":[2,0,1]}\n",
    "        self.vol1 = np.transpose(self.volume1, orient[view])\n",
    "        self.vol2 = np.transpose(self.volume2, orient[view])\n",
    "        self.vol3 = np.transpose(self.volume3, orient[view])\n",
    "        self.maxZ = self.vol1.shape[2] - 1\n",
    "        \n",
    "        \"\"\"Call to select neuron_id\"\"\"\n",
    "        ipyw.interact(self.neuron_selection, neuron=ipyw.SelectionSlider(\n",
    "            options=self.sorted_id,\n",
    "            value=self.sorted_id[0],\n",
    "            description='Neuron_id:',\n",
    "            disabled=False,\n",
    "            continuous_update=False,\n",
    "            orientation='horizontal',\n",
    "            readout=True))\n",
    "        \n",
    "    \n",
    "    def neuron_selection(self, neuron):\n",
    "        \"\"\"Transform neuron_ids such that selected neuron is 1 else 0\"\"\"\n",
    "        self.neuron = neuron\n",
    "        self.vol3r = (self.vol3==self.neuron).astype(int)\n",
    "\n",
    "        \"\"\"Call to view a slice within the selected slice plane\"\"\"\n",
    "        ipyw.interact(self.plot_slice, z=ipyw.IntSlider(\n",
    "            min=0, \n",
    "            max=self.maxZ, \n",
    "            step=1, \n",
    "            continuous_update=False, \n",
    "            description='Image Slice:'))      \n",
    "    \n",
    "    def plot_slice(self, z):\n",
    "        \"\"\"Plot slice for the given plane and slice\"\"\"\n",
    "        self.fig, (self.ax1, self.ax2, self.ax3) = plt.subplots(1,3,figsize=self.figsize)\n",
    "        \n",
    "        self.divider1 = make_axes_locatable(self.ax1)\n",
    "        self.cax1 = self.divider1.append_axes('right', size='5%', pad=0.05)\n",
    "        self.im1 = self.ax1.imshow(self.vol1[:,:,z], cmap=\"Greys\")\n",
    "        self.fig.colorbar(self.im1, cax=self.cax1, orientation='vertical')\n",
    "        self.ax1.title.set_text('Raw data')\n",
    "        self.im1 = self.ax1.imshow(self.vol2[:,:,z], cmap=self.my_cmap1) # vol2 overlay\n",
    "        self.im1 = self.ax1.imshow(self.vol3r[:,:,z], cmap=self.my_cmap2) # vol3r overlay\n",
    "        \n",
    "        \n",
    "        self.divider2 = make_axes_locatable(self.ax2)\n",
    "        self.cax2 = self.divider2.append_axes('right', size='5%', pad=0.05)\n",
    "        self.im2 = self.ax2.imshow(self.vol2[:,:,z], cmap=self.my_cmap1)\n",
    "        self.fig.colorbar(self.im2, cax=self.cax2, orientation='vertical')\n",
    "        self.ax2.title.set_text('Clefts')\n",
    "\n",
    "        self.divider3 = make_axes_locatable(self.ax3)\n",
    "        self.cax3 = self.divider3.append_axes('right', size='5%', pad=0.05)\n",
    "        self.im3 = self.ax3.imshow(self.vol3r[:,:,z], cmap=self.my_cmap2) # vol3r\n",
    "        self.fig.colorbar(self.im3, cax=self.cax3, orientation='vertical')\n",
    "        self.ax3.title.set_text('Neuron {}'.format(self.neuron));\n",
    "        \n",
    "        plt.show();\n",
    " "
   ]
  },
  {
   "cell_type": "code",
   "execution_count": null,
   "metadata": {},
   "outputs": [],
   "source": [
    "### 2.4 Distributions"
   ]
  },
  {
   "cell_type": "code",
   "execution_count": null,
   "metadata": {},
   "outputs": [],
   "source": [
    "from scipy import stats\n",
    "\n",
    "datasets = [raw, clefts, neuron_ids]\n",
    "dataset_names = [\"Raw\", \"Clefts\", \"Neuron_ids\"]\n",
    "\n",
    "for dataset, dataset_name in zip(datasets, dataset_names):\n",
    "    print(\"Dataset: {}\".format(dataset_name))\n",
    "    print(\"Shape: {}\".format(dataset.shape))\n",
    "    dataset_flat = dataset[:].flatten()\n",
    "    print(\"Number of pixels: {:,}\".format(len(dataset_flat)))\n",
    "    \n",
    "    # Descriptive stats\n",
    "    des = stats.describe(dataset_flat)\n",
    "    print(\"Min: {:,}\".format(des.minmax[0]))\n",
    "    print(\"Max: {:,}\".format(des.minmax[1]))\n",
    "    print(\"Mean: {0:1.3e}\".format(des.mean))\n",
    "    print(\"Variance: {0:1.3e}\".format(des.variance))\n",
    "    print(\"Skewness: {0:1.3e}\".format(des.skewness))\n",
    "    print(\"kurtosis: {0:1.3e}\".format(des.kurtosis))\n",
    "    print(\"Unique values: {}\\n\".format(len(np.unique(dataset_flat))))\n",
    "    \n",
    "    # Sampling to visualise\n",
    "    dataset_sample = dataset[0] # take first slice as sample \n",
    "    # dataset_sample = np.random.choice(\n",
    "    #     dataset_flat, int(0.01*len(dataset_flat))) # take 1% of vol as sample\n",
    "    f, ax = plt.subplots(figsize=(6, 4))\n",
    "    ax = sns.distplot(dataset_sample, axlabel=\"{} sample\".format(dataset_name), kde=False, rug=False)\n",
    "    ax.set_title('Histogram: {} sample'.format(dataset_name))\n",
    "    ax.set_ylabel('Freqency')\n",
    "    plt.show();\n",
    "    \n",
    "    print(\"\\n\")"
   ]
  },
  {
   "cell_type": "code",
   "execution_count": 6,
   "metadata": {},
   "outputs": [
    {
     "data": {
      "application/vnd.jupyter.widget-view+json": {
       "model_id": "d5a36f75e3a34c25a568dd5e1e5a3602",
       "version_major": 2,
       "version_minor": 0
      },
      "text/plain": [
       "interactive(children=(RadioButtons(description='Slice plane selection:', index=1, options=('x-y', 'y-z', 'z-x'…"
      ]
     },
     "metadata": {},
     "output_type": "display_data"
    },
    {
     "data": {
      "text/plain": [
       "<__main__.CREMINeuronViewer at 0x1a1928b240>"
      ]
     },
     "execution_count": 6,
     "metadata": {},
     "output_type": "execute_result"
    }
   ],
   "source": [
    "CREMINeuronViewer(img)"
   ]
  }
 ],
 "metadata": {
  "kernelspec": {
   "display_name": "Python 3",
   "language": "python",
   "name": "python3"
  },
  "language_info": {
   "codemirror_mode": {
    "name": "ipython",
    "version": 3
   },
   "file_extension": ".py",
   "mimetype": "text/x-python",
   "name": "python",
   "nbconvert_exporter": "python",
   "pygments_lexer": "ipython3",
   "version": "3.6.10"
  }
 },
 "nbformat": 4,
 "nbformat_minor": 4
}
