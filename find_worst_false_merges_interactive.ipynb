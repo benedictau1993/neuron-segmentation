{
 "cells": [
  {
   "cell_type": "markdown",
   "metadata": {},
   "source": [
    "This notebook finds that neuron-ids in ground-truth that have the worst false merges when we run inference. The following uses the inference of modelA on subvolume [0,0,0] - [125, 128, 128] of cremiA."
   ]
  },
  {
   "cell_type": "code",
   "execution_count": 1,
   "metadata": {},
   "outputs": [],
   "source": [
    "from ffn.inference import storage\n",
    "import h5py\n",
    "import numpy as np\n",
    "\n",
    "from cremi_python.cremi.evaluation.rand import adapted_rand\n",
    "from cremi_python.cremi.evaluation.voi import voi, sorted_vi_components"
   ]
  },
  {
   "cell_type": "markdown",
   "metadata": {},
   "source": [
    "# Load segmentation and ground-truth"
   ]
  },
  {
   "cell_type": "code",
   "execution_count": 2,
   "metadata": {},
   "outputs": [
    {
     "name": "stdout",
     "output_type": "stream",
     "text": [
      "(125, 128, 128)\n"
     ]
    }
   ],
   "source": [
    "#load segmentation, https://drive.google.com/drive/folders/1SDjXXM6xW6sjzEJeUrDduL_PTQTI1Skz?usp=sharing\n",
    "seg, prob = storage.load_segmentation('0/0', (0, 0, 0))\n",
    "print(seg.shape)\n",
    "\n",
    "# load ground-truth, https://drive.google.com/file/d/1soEqM2DPVT6hYUPLybvNGIjtTYJbdrGl/view?usp=sharing\n",
    "filename = './labeledA.hdf'\n",
    "with h5py.File(filename, 'r') as f:\n",
    "    raw = f['volumes/raw'][...]\n",
    "    truth = f['volumes/labels/neuron_ids'][...]\n",
    "raw = raw[:125, :128, :128]\n",
    "truth = truth[:125, :128, :128]"
   ]
  },
  {
   "cell_type": "code",
   "execution_count": 3,
   "metadata": {},
   "outputs": [
    {
     "data": {
      "text/plain": [
       "array([[[118, 111, 103, ..., 167, 158, 161],\n",
       "        [112, 102, 102, ..., 160, 159, 160],\n",
       "        [110, 105, 105, ..., 160, 161, 148],\n",
       "        ...,\n",
       "        [144, 137, 140, ..., 161, 159, 155],\n",
       "        [126, 125, 125, ..., 157, 157, 159],\n",
       "        [110, 110, 114, ..., 160, 154, 151]],\n",
       "\n",
       "       [[134, 138, 131, ..., 113, 112, 119],\n",
       "        [140, 142, 137, ..., 115, 113, 118],\n",
       "        [143, 140, 136, ..., 113, 112, 115],\n",
       "        ...,\n",
       "        [148, 158, 160, ..., 161, 159, 160],\n",
       "        [151, 159, 155, ..., 162, 159, 162],\n",
       "        [150, 155, 158, ..., 154, 160, 162]],\n",
       "\n",
       "       [[ 93,  86,  82, ..., 111, 114, 117],\n",
       "        [ 86,  82,  80, ..., 112, 125, 131],\n",
       "        [ 71,  72,  68, ..., 122, 132, 140],\n",
       "        ...,\n",
       "        [122, 122, 123, ..., 141, 136, 132],\n",
       "        [128, 131, 134, ..., 154, 148, 143],\n",
       "        [142, 138, 149, ..., 158, 155, 153]],\n",
       "\n",
       "       ...,\n",
       "\n",
       "       [[124, 128, 124, ..., 139, 136, 135],\n",
       "        [115, 118, 121, ..., 147, 139, 142],\n",
       "        [109, 108, 110, ..., 144, 146, 137],\n",
       "        ...,\n",
       "        [119, 117, 120, ..., 155, 154, 155],\n",
       "        [117, 109, 116, ..., 156, 154, 157],\n",
       "        [114, 115, 113, ..., 154, 152, 153]],\n",
       "\n",
       "       [[133, 131, 123, ..., 140, 146, 140],\n",
       "        [127, 124, 116, ..., 148, 144, 143],\n",
       "        [109, 108, 100, ..., 148, 147, 144],\n",
       "        ...,\n",
       "        [138, 142, 142, ..., 155, 152, 151],\n",
       "        [143, 145, 147, ..., 149, 151, 154],\n",
       "        [149, 150, 150, ..., 144, 150, 157]],\n",
       "\n",
       "       [[141, 145, 147, ..., 165, 166, 163],\n",
       "        [126, 127, 126, ..., 163, 165, 163],\n",
       "        [105, 109, 114, ..., 161, 162, 161],\n",
       "        ...,\n",
       "        [166, 163, 166, ..., 151, 153, 153],\n",
       "        [164, 166, 167, ..., 153, 153, 154],\n",
       "        [169, 165, 164, ..., 150, 151, 152]]], dtype=uint8)"
      ]
     },
     "execution_count": 3,
     "metadata": {},
     "output_type": "execute_result"
    }
   ],
   "source": [
    "raw"
   ]
  },
  {
   "cell_type": "code",
   "execution_count": 4,
   "metadata": {},
   "outputs": [],
   "source": [
    "# Calculate rand and voi score"
   ]
  },
  {
   "cell_type": "code",
   "execution_count": 5,
   "metadata": {},
   "outputs": [
    {
     "data": {
      "text/plain": [
       "(0.2504528800746295, 0.9835280998897968, 0.6054991020899303)"
      ]
     },
     "execution_count": 5,
     "metadata": {},
     "output_type": "execute_result"
    }
   ],
   "source": [
    "adapted_rand(seg, truth, True)"
   ]
  },
  {
   "cell_type": "code",
   "execution_count": 6,
   "metadata": {},
   "outputs": [
    {
     "data": {
      "text/plain": [
       "(1.5582847410016272, 0.6238707278010233)"
      ]
     },
     "execution_count": 6,
     "metadata": {},
     "output_type": "execute_result"
    }
   ],
   "source": [
    "voi(seg, truth)"
   ]
  },
  {
   "cell_type": "markdown",
   "metadata": {},
   "source": [
    "# Find worst false merges"
   ]
  },
  {
   "cell_type": "code",
   "execution_count": 7,
   "metadata": {},
   "outputs": [],
   "source": [
    "false_merges, entropy, _, _ = sorted_vi_components(seg, truth, compress=False)\n"
   ]
  },
  {
   "cell_type": "code",
   "execution_count": 8,
   "metadata": {},
   "outputs": [],
   "source": [
    "ids = false_merges[entropy>0]"
   ]
  },
  {
   "cell_type": "code",
   "execution_count": 9,
   "metadata": {},
   "outputs": [
    {
     "data": {
      "text/plain": [
       "array([  5556,   2064,   7550,   2193,   3538,   6252,   3040,   9080,\n",
       "         9284,  53070, 188748, 175398,   3877,   9988, 123707,  70515,\n",
       "       123694,  37473,  21635, 180064, 180429,  31621, 114415,   7113,\n",
       "       101706,  35891, 181339, 177085, 183060, 180885,  53346, 135269,\n",
       "        68201, 132030,   5918,  39852, 180903, 179183,  55330, 181345,\n",
       "       135267, 189390, 182193, 183494, 187328, 187825,  71424,  87656,\n",
       "       178398, 175340, 166017, 185566, 188674, 189385, 165252, 179174,\n",
       "       131650,    885, 166452,  47677, 135261, 185108, 150759, 133730,\n",
       "       180443,  78629, 169519, 189389, 144909, 178741, 131647, 177890,\n",
       "       169984,  62462, 186379, 146056, 189386, 183879, 131114, 115690,\n",
       "       135262, 189301, 145660, 162742, 144541, 131643, 131667, 174982,\n",
       "       184703, 174558, 131651, 144922, 189381, 180084, 115586, 189387,\n",
       "       179607, 188675,  10561, 167947, 125518, 162781, 131639, 139395,\n",
       "       167248, 135271, 176666, 131670, 133733, 172545, 186010, 172926,\n",
       "       174987, 137284, 131669, 135272, 163203, 176202, 133731, 186761,\n",
       "       102293, 182639, 133828, 163647, 142965, 184330, 150033, 172933,\n",
       "       153577, 138103, 131668, 170361, 125522, 138134, 185992, 138929,\n",
       "       152760, 169150, 131649, 176214,  54884, 181789, 154794, 131117,\n",
       "        37988, 144096, 146439, 138900, 187314, 185556, 143732, 176672,\n",
       "       187321, 186016, 155565, 184713, 155193, 159275, 142206, 156317,\n",
       "       137729, 177069, 182205, 172084,  52972, 149635, 156795, 189384,\n",
       "       163657, 135809,  44519, 169532, 177525, 187257, 180892, 183532,\n",
       "       135273, 150393, 170362, 146044, 179209, 174551, 162306, 148032,\n",
       "       137692, 160126, 172529, 143344, 171668, 170367, 131662, 146069,\n",
       "       155935, 140659, 158836, 144538, 150023, 163200, 135811, 131118,\n",
       "       166854, 181344, 158440, 176200, 155577, 138931, 186004, 173310,\n",
       "       169517, 131646, 181327, 158833, 169160, 131664, 169991, 171241,\n",
       "       170803, 153159, 176195, 163219, 125543, 161836, 178750, 151950,\n",
       "       138501, 172067, 159680, 156316, 159695, 135266, 183054, 140184,\n",
       "       155950, 179194, 146048, 180080, 146051, 163661, 158822, 167582,\n",
       "       179628, 136029, 145270, 169982, 166425, 180891, 143722, 138122,\n",
       "       159255, 140635, 154387, 133728, 183053, 155176, 186410, 161839,\n",
       "       138115, 176669, 182663, 138530, 163659, 168755])"
      ]
     },
     "execution_count": 9,
     "metadata": {},
     "output_type": "execute_result"
    }
   ],
   "source": [
    "# These are the gt (ground-truth) ids that have the worst false merges. \n",
    "ids"
   ]
  },
  {
   "cell_type": "code",
   "execution_count": 10,
   "metadata": {},
   "outputs": [
    {
     "data": {
      "text/plain": [
       "262"
      ]
     },
     "execution_count": 10,
     "metadata": {},
     "output_type": "execute_result"
    }
   ],
   "source": [
    "len(set(ids))"
   ]
  },
  {
   "cell_type": "code",
   "execution_count": 11,
   "metadata": {},
   "outputs": [
    {
     "data": {
      "text/plain": [
       "588"
      ]
     },
     "execution_count": 11,
     "metadata": {},
     "output_type": "execute_result"
    }
   ],
   "source": [
    "len(np.unique(truth))"
   ]
  },
  {
   "cell_type": "markdown",
   "metadata": {},
   "source": [
    "# Next step: visualize"
   ]
  },
  {
   "cell_type": "code",
   "execution_count": 12,
   "metadata": {},
   "outputs": [],
   "source": [
    "import matplotlib.pyplot as plt\n",
    "import seaborn as sns"
   ]
  },
  {
   "cell_type": "code",
   "execution_count": 35,
   "metadata": {},
   "outputs": [],
   "source": [
    "# # get a sorted list of ground truth neuron ids sorted in descending order\n",
    "# # by size/number of voxels\n",
    "# truth_unique, truth_unique_counts = np.unique(truth, return_counts=True)\n",
    "# _p = (-truth_unique_counts).argsort()\n",
    "# sorted_truth_unique = truth_unique[_p]\n",
    "# \n",
    "# # get mask for one specific neuron, call it raw2\n",
    "# nth_most_common_truth_id = 2\n",
    "# voxels_one_id = np.where(truth==sorted_truth_unique[nth_most_common_truth_id])\n",
    "# raw2 = np.zeros((125, 128, 128))\n",
    "# raw2[voxels_one_id] = 1\n",
    "# \n",
    "# # now we want to get a list of inference ids that take up that space\n",
    "# seg_ids_in_mask, seg_ids_in_mask_counts = np.unique(seg[voxels_one_id], return_counts=True)\n",
    "# _p = (-seg_ids_in_mask_counts).argsort()\n",
    "# # just focus on largest seg object for now i.e. [:1]\n",
    "# sorted_seg_ids_in_mask = seg_ids_in_mask[_p][:1]\n",
    "# \n",
    "# # plot each segmentation id in a differnt color\n",
    "# seg_plot = np.zeros((125, 128, 128))\n",
    "# seg_plot_colors = np.linspace(1, .5, len(sorted_seg_ids_in_mask))\n",
    "# for i in range(len(sorted_seg_ids_in_mask)):\n",
    "#     seg_plot[np.where(seg==sorted_seg_ids_in_mask[i])] = seg_plot_colors[i]\n",
    "#     \n",
    "# layer = 3\n",
    "# \n",
    "# fig, axarr = plt.subplots(1,3,figsize=(20,20))\n",
    "# \n",
    "# axarr[0].imshow(raw[layer])\n",
    "# axarr[1].imshow(raw2[layer])\n",
    "# axarr[2].imshow(seg_plot[layer])\n",
    "# "
   ]
  },
  {
   "cell_type": "code",
   "execution_count": 33,
   "metadata": {},
   "outputs": [],
   "source": [
    "# !pip install ipywidgets\n",
    "# !jupyter nbextension enable --py widgetsnbextension\n",
    "\n",
    "import ipywidgets as ipyw\n",
    "\n",
    "class CREMIInferenceViewer:\n",
    "    def __init__(self, raw, truth, seg, top_n_gt=10, figsize=(20,20)):\n",
    "        self.raw = raw\n",
    "        self.truth = truth\n",
    "        self.seg = seg\n",
    "        self.top_n_gt = top_n_gt # plot only n largest neurons in ground truth set\n",
    "        self.figsize = figsize\n",
    "        \n",
    "        # get a sorted list of ground truth neuron ids sorted in descending order\n",
    "        # by size/number of voxels\n",
    "        self.truth_unique, self.truth_unique_counts = np.unique(self.truth, return_counts=True)\n",
    "        self._p = (-self.truth_unique_counts).argsort()\n",
    "        self.sorted_truth_unique = self.truth_unique[self._p]\n",
    "        self.len_sorted_truth_unique = len(self.sorted_truth_unique)\n",
    "        \n",
    "        \"\"\"Call to select neuron_id, only allow top 10 neuron_ids\"\"\"\n",
    "        ipyw.interact(self.neuron_selection, neuron=ipyw.SelectionSlider(\n",
    "            options=self.sorted_truth_unique[:self.top_n_gt],\n",
    "            value=self.sorted_truth_unique[0],\n",
    "            description='Neuron_id:',\n",
    "            disabled=False,\n",
    "            continuous_update=False,\n",
    "            orientation='horizontal',\n",
    "            readout=True))\n",
    "        \n",
    "    def neuron_selection(self, neuron):\n",
    "        \"\"\"Transform neuron_ids such that selected neuron is 1 else 0\"\"\"\n",
    "        # get mask for one specific neuron, call it raw2\n",
    "        self.nth_most_common_truth_id = neuron\n",
    "        self.voxels_one_id = np.where(self.truth==neuron)\n",
    "        self.raw2 = np.zeros((125, 128, 128))\n",
    "        self.raw2[self.voxels_one_id] = 1\n",
    "\n",
    "        # now we want to get a list of inference ids that take up that space\n",
    "        self.seg_ids_in_mask, self.seg_ids_in_mask_counts = np.unique(self.seg[self.voxels_one_id], return_counts=True)\n",
    "        self._p = (-self.seg_ids_in_mask_counts).argsort()\n",
    "        # just focus on largest seg object for now i.e. [:1]\n",
    "        self.sorted_seg_ids_in_mask = self.seg_ids_in_mask[self._p][:1]\n",
    "\n",
    "        # plot each segmentation id in a differnt color\n",
    "        self.seg_plot = np.zeros((125, 128, 128))\n",
    "        self.seg_plot_colors = np.linspace(1, .5, len(self.sorted_seg_ids_in_mask))\n",
    "        for i in range(len(self.sorted_seg_ids_in_mask)):\n",
    "            self.seg_plot[np.where(self.seg==self.sorted_seg_ids_in_mask[i])] = self.seg_plot_colors[i]\n",
    "        \n",
    "        \"\"\"Call to view a slice within the selected slice plane\"\"\"\n",
    "        self.maxZ = self.raw.shape[2] - 1\n",
    "        ipyw.interact(self.plot_slice, z=ipyw.IntSlider(\n",
    "            min=0, \n",
    "            max=self.maxZ, \n",
    "            step=1, \n",
    "            continuous_update=False, \n",
    "            description='Image Slice:'))                  \n",
    "            \n",
    "    def plot_slice(self, z):\n",
    "        \n",
    "        self.fig, self.axarr = plt.subplots(1,3,figsize=(20,20))\n",
    "        self.axarr[0].imshow(self.raw[z], cmap='gray')\n",
    "        self.axarr[0].title.set_text('Raw image')\n",
    "        self.axarr[1].imshow(self.raw2[z])\n",
    "        self.axarr[1].title.set_text('Ground truth neuron')\n",
    "        self.axarr[2].imshow(self.seg_plot[z])\n",
    "        self.axarr[2].title.set_text('Inference result')\n",
    "        \n",
    "        plt.show()\n",
    "        \n"
   ]
  },
  {
   "cell_type": "code",
   "execution_count": 34,
   "metadata": {},
   "outputs": [
    {
     "data": {
      "application/vnd.jupyter.widget-view+json": {
       "model_id": "cb9ec956baca43a08d265e8b4bb0cba9",
       "version_major": 2,
       "version_minor": 0
      },
      "text/plain": [
       "interactive(children=(SelectionSlider(continuous_update=False, description='Neuron_id:', options=(5556, 2064, …"
      ]
     },
     "metadata": {},
     "output_type": "display_data"
    },
    {
     "data": {
      "text/plain": [
       "<__main__.CREMIInferenceViewer at 0x7fe0ded998b0>"
      ]
     },
     "execution_count": 34,
     "metadata": {},
     "output_type": "execute_result"
    }
   ],
   "source": [
    "CREMIInferenceViewer(raw, truth, seg, top_n_gt=10, figsize=(20,20))"
   ]
  },
  {
   "cell_type": "code",
   "execution_count": null,
   "metadata": {},
   "outputs": [],
   "source": []
  }
 ],
 "metadata": {
  "kernelspec": {
   "display_name": "Python [conda env:tf24] *",
   "language": "python",
   "name": "conda-env-tf24-py"
  },
  "language_info": {
   "codemirror_mode": {
    "name": "ipython",
    "version": 3
   },
   "file_extension": ".py",
   "mimetype": "text/x-python",
   "name": "python",
   "nbconvert_exporter": "python",
   "pygments_lexer": "ipython3",
   "version": "3.8.5"
  }
 },
 "nbformat": 4,
 "nbformat_minor": 4
}
